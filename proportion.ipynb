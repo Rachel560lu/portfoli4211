{
  "cells": [
    {
      "cell_type": "code",
      "execution_count": 30,
      "metadata": {
        "id": "aia_GtDXF68p",
        "colab": {
          "base_uri": "https://localhost:8080/"
        },
        "outputId": "6e3c4801-40ee-4379-e818-b8d5e64adc4b"
      },
      "outputs": [
        {
          "output_type": "stream",
          "name": "stdout",
          "text": [
            "Drive already mounted at /content/drive; to attempt to forcibly remount, call drive.mount(\"/content/drive\", force_remount=True).\n"
          ]
        }
      ],
      "source": [
        "from google.colab import drive\n",
        "drive.mount('/content/drive')\n",
        "\n",
        "folder_path = \"/content/drive/MyDrive/DSE4211/\""
      ]
    },
    {
      "cell_type": "code",
      "source": [
        "import os\n",
        "print(os.listdir(\"/content/drive/MyDrive/DSE4211/\"))\n"
      ],
      "metadata": {
        "id": "1t6CEFQIPotr",
        "colab": {
          "base_uri": "https://localhost:8080/"
        },
        "outputId": "d3db364a-2108-47f3-8fd9-1b254443e42e"
      },
      "execution_count": 31,
      "outputs": [
        {
          "output_type": "stream",
          "name": "stdout",
          "text": [
            "['btc_price_data.csv', 'apple_price_data.csv', 'JNJ_price_data.csv', 'Xiaomi_price_data.csv', 'BNB_price_data.csv', 'USDT_price_data.csv', 'Gold(Tether)_price_data.csv', 'Xiaomi_price_data.gsheet']\n"
          ]
        }
      ]
    },
    {
      "cell_type": "code",
      "execution_count": 33,
      "metadata": {
        "colab": {
          "base_uri": "https://localhost:8080/"
        },
        "id": "6KiqPkQeTFn_",
        "outputId": "3078d363-6231-4c37-c67e-454faa4a5be4"
      },
      "outputs": [
        {
          "output_type": "stream",
          "name": "stdout",
          "text": [
            "Cleaned Data (First 5 Rows):\n",
            "                 Apple         BNB       Bitcoin         JNJ      USDT  Xiaomi\n",
            "2023-01-03  123.632515  244.136978  16625.080078  166.303696  0.999692   11.22\n",
            "2023-01-04  124.907715  245.535904  16688.470703  168.114288  0.999771   11.50\n",
            "2023-01-05  123.583092  246.133362  16679.857422  166.873016  0.999759   11.62\n",
            "2023-01-06  128.130234  259.119690  16863.238281  168.226303  0.999763   11.24\n",
            "2023-01-07  128.654144  256.422852  16836.736328  163.867798  0.999697   12.10\n",
            "Daily Risk-Free Rate (Apple): 0.000166\n",
            "Daily Risk-Free Rate (BNB): 0.000476\n",
            "Daily Risk-Free Rate (Bitcoin): 0.000278\n",
            "Daily Risk-Free Rate (JNJ): 0.000166\n",
            "Daily Risk-Free Rate (Gold_Tether): 0.000166\n",
            "Daily Risk-Free Rate (Xiaomi): 0.000133\n",
            "\n",
            "Optimal Portfolio Allocation (Mean-Variance Optimization):\n",
            "     Asset  Optimal Allocation (%)\n",
            "0    Apple               70.335815\n",
            "1      BNB               -4.025328\n",
            "2  Bitcoin               37.983408\n",
            "3      JNJ              -44.314539\n",
            "4   Xiaomi               35.020644\n",
            "5     USDT                5.000000\n"
          ]
        },
        {
          "output_type": "stream",
          "name": "stderr",
          "text": [
            "<ipython-input-33-1d68b1adb60a>:29: FutureWarning: DataFrame.fillna with 'method' is deprecated and will raise in a future version. Use obj.ffill() or obj.bfill() instead.\n",
            "  merged_df.fillna(method='ffill', inplace=True)  # Forward-fill missing values\n"
          ]
        }
      ],
      "source": [
        "# Import necessary libraries\n",
        "import numpy as np\n",
        "import pandas as pd\n",
        "import scipy.optimize as sco\n",
        "from google.colab import drive\n",
        "\n",
        "\n",
        "# Define file paths\n",
        "file_paths = {\n",
        "    \"Apple\": \"/content/drive/MyDrive/DSE4211/apple_price_data.csv\",\n",
        "    \"BNB\": \"/content/drive/MyDrive/DSE4211/BNB_price_data.csv\",\n",
        "    \"Bitcoin\": \"/content/drive/MyDrive/DSE4211/btc_price_data.csv\",\n",
        "    \"JNJ\": \"/content/drive/MyDrive/DSE4211/JNJ_price_data.csv\",\n",
        "    \"USDT\": \"/content/drive/MyDrive/DSE4211/USDT_price_data.csv\",\n",
        "    \"Xiaomi\": \"/content/drive/MyDrive/DSE4211/Xiaomi_price_data.csv\",\n",
        "}\n",
        "\n",
        "# Load and preprocess data\n",
        "dfs = {}\n",
        "for asset, path in file_paths.items():\n",
        "    df = pd.read_csv(path)\n",
        "    df.index = pd.date_range(start=\"2023-01-01\", periods=len(df), freq=\"D\")\n",
        "    if \"Close\" in df.columns:\n",
        "        df = df[[\"Close\"]].rename(columns={\"Close\": asset})\n",
        "    dfs[asset] = df\n",
        "\n",
        "merged_df = pd.concat(dfs.values(), axis=1)  # Merge all assets\n",
        "merged_df = merged_df.iloc[2:].apply(pd.to_numeric, errors='coerce')\n",
        "merged_df.fillna(method='ffill', inplace=True)  # Forward-fill missing values\n",
        "\n",
        "print(\"Cleaned Data (First 5 Rows):\")\n",
        "print(merged_df.head())\n",
        "\n",
        "# Compute daily returns\n",
        "returns = merged_df.pct_change().dropna()\n",
        "\n",
        "# Exclude USDT from optimization\n",
        "returns_ex_usdt = returns.drop(columns=[\"USDT\"], errors=\"ignore\")\n",
        "\n",
        "# Compute expected return and covariance matrix\n",
        "expected_returns = returns_ex_usdt.mean().values  # Mean returns\n",
        "cov_matrix = returns_ex_usdt.cov().values        # Risk (covariance)\n",
        "num_assets = len(returns_ex_usdt.columns)\n",
        "\n",
        "import yfinance as yf\n",
        "\n",
        "# Fetch US 3-month T-bill yield\n",
        "rf_tbill = yf.Ticker(\"^IRX\")\n",
        "rf_annual = rf_tbill.history(period=\"1d\")[\"Close\"].iloc[-1] / 100  # Convert to decimal\n",
        "risk_free_rate_us = rf_annual / 252  # Convert to daily rate\n",
        "\n",
        "\n",
        "# Fetch HK 3-month Treasury yield\n",
        "rf_annual_hk = 3.364 / 100 #2025/03/18\n",
        "risk_free_rate_hk = rf_annual_hk / 252\n",
        "\n",
        "\n",
        "rf_annual_btc = 0.07  # 7% annual rate (NEXO)\n",
        "risk_free_rate_btc = rf_annual_btc / 252  # Convert to daily rate (252 trading days in a year)\n",
        "\n",
        "rf_annual_bnb = 0.12  # 12% annual rate for BNB (NEXO)\n",
        "risk_free_rate_bnb = rf_annual_bnb / 252  # Convert to daily rate (252 trading days in a year)\n",
        "\n",
        "risk_free_rates = {\n",
        "    \"Apple\": risk_free_rate_us,       # US (3-month T-bill)\n",
        "    \"BNB\": risk_free_rate_bnb,   # BNB DeFi lending rate\n",
        "    \"Bitcoin\": risk_free_rate_btc,  # BTC DeFi lending rate\n",
        "    \"JNJ\": risk_free_rate_us,        # US (3-month T-bill)\n",
        "    \"Gold_Tether\": risk_free_rate_us,   # Gold tether, US-based\n",
        "    \"Xiaomi\": risk_free_rate_hk,    # Xiaomi (HK 3-month T-bill)\n",
        "}\n",
        "\n",
        "# Print risk-free rates per asset\n",
        "for asset, rf in risk_free_rates.items():\n",
        "    print(f\"Daily Risk-Free Rate ({asset}): {rf:.6f}\")\n",
        "\n",
        "\n",
        "# Define Sharpe Ratio objective function (maximize return/risk)\n",
        "def sharpe_ratio(weights, expected_returns, cov_matrix, risk_free_rates):\n",
        "    excess_returns = expected_returns - np.array([risk_free_rates[asset] for asset in returns_ex_usdt.columns])\n",
        "    port_return = np.dot(weights, excess_returns)  # Portfolio excess return\n",
        "    port_volatility = np.sqrt(weights.T @ cov_matrix @ weights)  # Portfolio volatility\n",
        "    return - port_return / port_volatility  # Negative Sharpe Ratio\n",
        "\n",
        "\n",
        "# Initial equal weight allocation\n",
        "init_weights = np.ones(num_assets) / num_assets\n",
        "\n",
        "\n",
        "# Constraint: weights must sum to 95% (USDT is fixed at 5%)\n",
        "constraints = ({'type': 'eq', 'fun': lambda w: np.sum(w) - 0.95})\n",
        "\n",
        "#bounds = tuple((0, 1) for _ in range(num_assets))\n",
        "\n",
        "# Optimize to maximize Sharpe Ratio (minimize negative Sharpe)\n",
        "opt_result = sco.minimize(sharpe_ratio, init_weights, args=(expected_returns, cov_matrix, risk_free_rates),\n",
        "                          method='SLSQP',  constraints=constraints)\n",
        "\n",
        "# Extract optimized weights\n",
        "allocation_weights = opt_result.x\n",
        "\n",
        "# Create allocation DataFrame\n",
        "allocation_df = pd.DataFrame({\"Asset\": returns_ex_usdt.columns, \"Optimal Allocation (%)\": allocation_weights * 100})\n",
        "\n",
        "usdt_allocation = pd.DataFrame({\"Asset\": [\"USDT\"], \"Optimal Allocation (%)\": [5.0]})\n",
        "allocation_df = pd.concat([allocation_df, usdt_allocation], ignore_index=True)\n",
        "\n",
        "print(\"\\nOptimal Portfolio Allocation (Mean-Variance Optimization):\")\n",
        "print(allocation_df)\n"
      ]
    }
  ],
  "metadata": {
    "colab": {
      "provenance": []
    },
    "kernelspec": {
      "display_name": "Python 3",
      "name": "python3"
    },
    "language_info": {
      "name": "python"
    }
  },
  "nbformat": 4,
  "nbformat_minor": 0
}