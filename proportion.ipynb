{
  "cells": [
    {
      "cell_type": "code",
      "execution_count": 3,
      "metadata": {
        "id": "aia_GtDXF68p",
        "colab": {
          "base_uri": "https://localhost:8080/"
        },
        "outputId": "2855d004-b7e6-4a3f-c480-4a4ca4d15b33"
      },
      "outputs": [
        {
          "output_type": "stream",
          "name": "stdout",
          "text": [
            "Mounted at /content/drive\n"
          ]
        }
      ],
      "source": [
        "from google.colab import drive\n",
        "drive.mount('/content/drive')\n",
        "\n",
        "folder_path = \"/content/drive/MyDrive/DSE4211/\""
      ]
    },
    {
      "cell_type": "code",
      "source": [
        "import os\n",
        "print(os.listdir(\"/content/drive/MyDrive/DSE4211/\"))\n"
      ],
      "metadata": {
        "id": "1t6CEFQIPotr",
        "colab": {
          "base_uri": "https://localhost:8080/"
        },
        "outputId": "f756b56a-5fa7-4771-ca5d-d549eeb81169"
      },
      "execution_count": 4,
      "outputs": [
        {
          "output_type": "stream",
          "name": "stdout",
          "text": [
            "['btc_price_data.csv', 'apple_price_data.csv', 'JNJ_price_data.csv', 'Xiaomi_price_data.csv', 'BNB_price_data.csv', 'USDT_price_data.csv', 'Gold(Tether)_price_data.csv', 'Xiaomi_price_data.gsheet']\n"
          ]
        }
      ]
    },
    {
      "cell_type": "code",
      "execution_count": 6,
      "metadata": {
        "colab": {
          "base_uri": "https://localhost:8080/"
        },
        "id": "6KiqPkQeTFn_",
        "outputId": "f3908f85-dd76-4be5-d581-d11dd00fc8bc"
      },
      "outputs": [
        {
          "output_type": "stream",
          "name": "stderr",
          "text": [
            "<ipython-input-6-63417843d63d>:31: FutureWarning: DataFrame.fillna with 'method' is deprecated and will raise in a future version. Use obj.ffill() or obj.bfill() instead.\n",
            "  merged_df.fillna(method='ffill', inplace=True)  # Fill missing values\n"
          ]
        },
        {
          "output_type": "stream",
          "name": "stdout",
          "text": [
            "Cleaned Data (First 5 Rows):\n",
            "                 Apple         BNB       Bitcoin         JNJ      USDT  \\\n",
            "2023-01-03  123.632515  244.136978  16625.080078  166.303696  0.999692   \n",
            "2023-01-04  124.907715  245.535904  16688.470703  168.114288  0.999771   \n",
            "2023-01-05  123.583092  246.133362  16679.857422  166.873016  0.999759   \n",
            "2023-01-06  128.130234  259.119690  16863.238281  168.226303  0.999763   \n",
            "2023-01-07  128.654144  256.422852  16836.736328  163.867798  0.999697   \n",
            "\n",
            "            Xiaomi  Gold_Tether  \n",
            "2023-01-03   11.22  1817.210083  \n",
            "2023-01-04   11.50  1817.010986  \n",
            "2023-01-05   11.62  1833.518555  \n",
            "2023-01-06   11.24  1850.594238  \n",
            "2023-01-07   12.10  1830.700317  \n",
            "\n",
            "Predicted Returns:\n",
            "                     Apple       BNB   Bitcoin       JNJ    Xiaomi  \\\n",
            "Predicted Return  0.002312  0.014772  0.011868  0.000181 -0.000055   \n",
            "\n",
            "                  Gold_Tether  \n",
            "Predicted Return     -0.00351  \n",
            "\n",
            "Optimal Portfolio Allocation:\n",
            "         Asset  Optimal Allocation (%)\n",
            "0        Apple                7.538416\n",
            "1          BNB               48.171756\n",
            "2      Bitcoin               38.701205\n",
            "3          JNJ                0.588623\n",
            "4       Xiaomi                0.000000\n",
            "5  Gold_Tether                0.000000\n",
            "6         USDT                5.000000\n"
          ]
        }
      ],
      "source": [
        "# Import libraries\n",
        "import numpy as np\n",
        "import pandas as pd\n",
        "import matplotlib.pyplot as plt\n",
        "from sklearn.ensemble import RandomForestRegressor\n",
        "from sklearn.model_selection import train_test_split\n",
        "from sklearn.preprocessing import StandardScaler\n",
        "\n",
        "# Load data\n",
        "file_paths = {\n",
        "    \"Apple\": \"/content/drive/MyDrive/DSE4211/apple_price_data.csv\",\n",
        "    \"BNB\": \"/content/drive/MyDrive/DSE4211/BNB_price_data.csv\",\n",
        "    \"Bitcoin\": \"/content/drive/MyDrive/DSE4211/btc_price_data.csv\",\n",
        "    \"JNJ\": \"/content/drive/MyDrive/DSE4211/JNJ_price_data.csv\",\n",
        "    \"USDT\": \"/content/drive/MyDrive/DSE4211/USDT_price_data.csv\",  # Fixed at 5%, excluded from training\n",
        "    \"Xiaomi\": \"/content/drive/MyDrive/DSE4211/Xiaomi_price_data.csv\",\n",
        "    \"Gold_Tether\": \"/content/drive/MyDrive/DSE4211/Gold(Tether)_price_data.csv\",\n",
        "}\n",
        "\n",
        "# Read and preprocess data\n",
        "dfs = {}\n",
        "for asset, path in file_paths.items():\n",
        "    df = pd.read_csv(path)\n",
        "    df.index = pd.date_range(start=\"2023-01-01\", periods=len(df), freq=\"D\")\n",
        "    if \"Close\" in df.columns:\n",
        "        df = df[[\"Close\"]].rename(columns={\"Close\": asset})\n",
        "    dfs[asset] = df\n",
        "\n",
        "merged_df = pd.concat(dfs.values(), axis=1)  # Merge assets\n",
        "merged_df = merged_df.iloc[2:].apply(pd.to_numeric, errors='coerce')\n",
        "merged_df.fillna(method='ffill', inplace=True)  # Fill missing values\n",
        "\n",
        "print(\"Cleaned Data (First 5 Rows):\")\n",
        "print(merged_df.head())\n",
        "\n",
        "# Compute daily returns\n",
        "returns = merged_df.pct_change().dropna()\n",
        "returns_ex_usdt = returns.drop(columns=[\"USDT\"], errors=\"ignore\")  # Exclude USDT from training\n",
        "\n",
        "# Prepare features and targets\n",
        "X = returns_ex_usdt.shift(1).dropna()\n",
        "y = returns_ex_usdt.loc[X.index]\n",
        "\n",
        "# Train-test split\n",
        "X_train, X_test, y_train, y_test = train_test_split(X, y, test_size=0.2, shuffle=False)\n",
        "\n",
        "# Scale features\n",
        "scaler = StandardScaler()\n",
        "X_train_scaled = scaler.fit_transform(X_train)\n",
        "X_test_scaled = scaler.transform(X_test)\n",
        "\n",
        "# Train Random Forest for each asset (excluding USDT)\n",
        "rf_models = {}\n",
        "predicted_returns = {}\n",
        "\n",
        "for asset in returns_ex_usdt.columns:\n",
        "    rf = RandomForestRegressor(n_estimators=100, random_state=42)\n",
        "    rf.fit(X_train_scaled, y_train[asset])\n",
        "    rf_models[asset] = rf\n",
        "    predicted_returns[asset] = rf.predict(X_test_scaled)[-1]\n",
        "\n",
        "# Convert predictions into DataFrame\n",
        "predicted_returns_df = pd.DataFrame(predicted_returns, index=[\"Predicted Return\"])\n",
        "print(\"\\nPredicted Returns:\")\n",
        "print(predicted_returns_df)\n",
        "\n",
        "# Ensure no negative weights and normalize to 95%\n",
        "predicted_returns_arr = np.maximum(0, np.array(list(predicted_returns.values())))\n",
        "allocation_weights = predicted_returns_arr / np.sum(predicted_returns_arr) * 0.95\n",
        "\n",
        "# Create allocation DataFrame and add USDT fixed at 5%\n",
        "allocation_df = pd.DataFrame({\"Asset\": returns_ex_usdt.columns, \"Optimal Allocation (%)\": allocation_weights * 100})\n",
        "usdt_allocation = pd.DataFrame({\"Asset\": [\"USDT\"], \"Optimal Allocation (%)\": [5.0]})\n",
        "allocation_df = pd.concat([allocation_df, usdt_allocation], ignore_index=True)\n",
        "\n",
        "print(\"\\nOptimal Portfolio Allocation:\")\n",
        "print(allocation_df)\n"
      ]
    }
  ],
  "metadata": {
    "colab": {
      "provenance": []
    },
    "kernelspec": {
      "display_name": "Python 3",
      "name": "python3"
    },
    "language_info": {
      "name": "python"
    }
  },
  "nbformat": 4,
  "nbformat_minor": 0
}